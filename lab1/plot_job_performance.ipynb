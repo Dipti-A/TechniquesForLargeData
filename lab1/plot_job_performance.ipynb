{
 "cells": [
  {
   "cell_type": "code",
   "execution_count": 1,
   "metadata": {},
   "outputs": [],
   "source": [
    "import pandas as pd\n",
    "import seaborn as sns"
   ]
  },
  {
   "cell_type": "markdown",
   "metadata": {
    "pycharm": {
     "name": "#%% md\n"
    }
   },
   "source": [
    "### Processing time collected from Bayes by running below commands\n",
    "\n",
    "bash /opt/local/bin/run_py_job.sh -p cpu -c 32 -e base -s mp-pi-montecarlo-pool.py -- --workers 1 --steps 10000000\n",
    "bash /opt/local/bin/run_py_job.sh -p cpu -c 32 -e base -s mp-pi-montecarlo-pool.py -- --workers 2 --steps 10000000\n",
    "bash /opt/local/bin/run_py_job.sh -p cpu -c 32 -e base -s mp-pi-montecarlo-pool.py -- --workers 4 --steps 10000000\n",
    "bash /opt/local/bin/run_py_job.sh -p cpu -c 32 -e base -s mp-pi-montecarlo-pool.py -- --workers 8 --steps 10000000\n",
    "bash /opt/local/bin/run_py_job.sh -p cpu -c 32 -e base -s mp-pi-montecarlo-pool.py -- --workers 16 --steps 10000000\n",
    "bash /opt/local/bin/run_py_job.sh -p cpu -c 32 -e base -s mp-pi-montecarlo-pool.py -- --workers 32--steps 10000000\n",
    "\n",
    "We changed the number of workers keeping the cpus_per_task fixed at 32. The execution times were recorded in job-times.xlsx\n",
    "\n",
    "Increasing number of workers would make use of the same number of cores. Although the number of CPU cores to be used here are high compared to the number of workers but for N workers only N cores were utilised and 32-N cores were left idle. "
   ]
  },
  {
   "cell_type": "code",
   "execution_count": 2,
   "metadata": {
    "pycharm": {
     "name": "#%%\n"
    }
   },
   "outputs": [
    {
     "name": "stdout",
     "output_type": "stream",
     "text": [
      "   Processers    Time\n",
      "0           1  2.9500\n",
      "1           2  1.4615\n",
      "2           4  0.7630\n",
      "3           8  0.4340\n",
      "4          16  0.3490\n",
      "5          32  0.2750\n"
     ]
    }
   ],
   "source": [
    "df = pd.read_excel('job-times.xlsx')\n",
    "print(df)"
   ]
  },
  {
   "cell_type": "markdown",
   "metadata": {},
   "source": [
    "### The function below calculates the theoretical speed up by using Amdahl's law."
   ]
  },
  {
   "cell_type": "code",
   "execution_count": 68,
   "metadata": {
    "pycharm": {
     "name": "#%%\n"
    }
   },
   "outputs": [],
   "source": [
    "def theoretical_speedup(n):\n",
    "    \"\"\"\n",
    "    Calculates speed up using Amdahl's law.\n",
    "    :param n: number of processors\n",
    "    :return: Theoretical speedup proprotional to the size of parallelizable code.\n",
    "    \"\"\"\n",
    "    p = 1 # parallelization percentage\n",
    "    s = (1-p) # serial percentage\n",
    "    return 1/(s + (p/n))\n",
    "\n"
   ]
  },
  {
   "cell_type": "markdown",
   "metadata": {
    "pycharm": {
     "name": "#%%\n"
    }
   },
   "source": [
    "### Theoretical Speedup Vs Measured Speed up\n",
    "\n",
    "Speed up is calculated as => Old execution time/New execution time\n"
   ]
  },
  {
   "cell_type": "code",
   "execution_count": 69,
   "metadata": {},
   "outputs": [
    {
     "name": "stdout",
     "output_type": "stream",
     "text": [
      "Theoretical Speed-up \n",
      " [1.0, 2.0, 4.0, 8.0, 16.0, 32.0]\n"
     ]
    }
   ],
   "source": [
    "t_speed_up = list(map(theoretical_speedup, [1, 2, 4, 8, 16, 32]))\n",
    "nl = '\\n'\n",
    "print(f'Theoretical Speed-up {nl} {t_speed_up}' )"
   ]
  },
  {
   "cell_type": "code",
   "execution_count": 70,
   "metadata": {},
   "outputs": [
    {
     "name": "stdout",
     "output_type": "stream",
     "text": [
      "Measured speed up \n",
      "0     1.000000\n",
      "1     2.018474\n",
      "2     3.866317\n",
      "3     6.797235\n",
      "4     8.452722\n",
      "5    10.727273\n",
      "Name: Time, dtype: float64\n"
     ]
    }
   ],
   "source": [
    "performance = df['Time']\n",
    "speed_up_real = lambda per: per[0]/per # ratio \n",
    "actual_speed_up = speed_up_real(performance)\n",
    "nl = '\\n'\n",
    "print(f'Measured speed up {nl}{actual_speed_up}')"
   ]
  },
  {
   "cell_type": "code",
   "execution_count": 72,
   "metadata": {
    "pycharm": {
     "name": "#%%\n"
    }
   },
   "outputs": [
    {
     "data": {
      "text/plain": [
       "<matplotlib.legend.Legend at 0x249b55a96d0>"
      ]
     },
     "execution_count": 72,
     "metadata": {},
     "output_type": "execute_result"
    },
    {
     "data": {
      "image/png": "[encoded data removed]",
      "text/plain": [
       "<Figure size 432x288 with 1 Axes>"
      ]
     },
     "metadata": {
      "needs_background": "light"
     },
     "output_type": "display_data"
    }
   ],
   "source": [
    "import matplotlib.pyplot as plt\n",
    "\n",
    "fig = sns.lineplot(data=df, x=\"Processers\", y=t_speed_up, color='blue')\n",
    "sns.lineplot(data=df, x=\"Processers\", y=actual_speed_up, color='red')\n",
    "fig.set(xlabel=\"No. of Processors\", ylabel=\"Speed up\")\n",
    "\n",
    "plt.legend(labels=['Theoretical speed up (100% parallelized code)', 'Measured  speed up of code'])\n",
    "           \n",
    "# if 50% serial code is 50% then speed up is never more than 2."
   ]
  },
  {
   "cell_type": "code",
   "execution_count": null,
   "metadata": {},
   "outputs": [],
   "source": []
  }
 ],
 "metadata": {
  "kernelspec": {
   "display_name": "Python 3",
   "language": "python",
   "name": "python3"
  },
  "language_info": {
   "codemirror_mode": {
    "name": "ipython",
    "version": 3
   },
   "file_extension": ".py",
   "mimetype": "text/x-python",
   "name": "python",
   "nbconvert_exporter": "python",
   "pygments_lexer": "ipython3",
   "version": "3.8.3"
  }
 },
 "nbformat": 4,
 "nbformat_minor": 1
}
